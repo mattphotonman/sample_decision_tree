{
 "cells": [
  {
   "cell_type": "code",
   "execution_count": 1,
   "metadata": {
    "collapsed": false
   },
   "outputs": [],
   "source": [
    "import pandas as pd\n",
    "\n",
    "from sklearn.tree import DecisionTreeClassifier\n",
    "\n",
    "from sklearn.metrics import roc_auc_score, roc_curve\n",
    "\n",
    "from sklearn.tree import export_graphviz\n",
    "import graphviz"
   ]
  },
  {
   "cell_type": "code",
   "execution_count": 2,
   "metadata": {
    "collapsed": false,
    "scrolled": true
   },
   "outputs": [
    {
     "name": "stdout",
     "output_type": "stream",
     "text": [
      "Populating the interactive namespace from numpy and matplotlib\n"
     ]
    }
   ],
   "source": [
    "%pylab inline"
   ]
  },
  {
   "cell_type": "markdown",
   "metadata": {
    "collapsed": false
   },
   "source": [
    "X = np.array([[1,1,0], [0,0,1], [1,0,0], [1,1,0], [0,1,0], [0,1,0], [1,1,1], [1,0,1]])\n",
    "y = np.array([[1,1,0,0,0,1,1,0]])\n",
    "df = pd.DataFrame(np.concatenate([X, y.T], axis=1), columns=['Zootopia', 'Moonlight', 'Deadpool', 'Rogue One'])\n",
    "writer = pd.ExcelWriter('movie_likes.xlsx', engine='xlsxwriter')\n",
    "df.to_excel(writer, index=False)\n",
    "del writer"
   ]
  },
  {
   "cell_type": "code",
   "execution_count": 3,
   "metadata": {
    "collapsed": false
   },
   "outputs": [
    {
     "data": {
      "text/html": [
       "<div>\n",
       "<style>\n",
       "    .dataframe thead tr:only-child th {\n",
       "        text-align: right;\n",
       "    }\n",
       "\n",
       "    .dataframe thead th {\n",
       "        text-align: left;\n",
       "    }\n",
       "\n",
       "    .dataframe tbody tr th {\n",
       "        vertical-align: top;\n",
       "    }\n",
       "</style>\n",
       "<table border=\"1\" class=\"dataframe\">\n",
       "  <thead>\n",
       "    <tr style=\"text-align: right;\">\n",
       "      <th></th>\n",
       "      <th>Zootopia</th>\n",
       "      <th>Moonlight</th>\n",
       "      <th>Deadpool</th>\n",
       "      <th>Rogue One</th>\n",
       "    </tr>\n",
       "  </thead>\n",
       "  <tbody>\n",
       "    <tr>\n",
       "      <th>0</th>\n",
       "      <td>1</td>\n",
       "      <td>1</td>\n",
       "      <td>0</td>\n",
       "      <td>1</td>\n",
       "    </tr>\n",
       "    <tr>\n",
       "      <th>1</th>\n",
       "      <td>0</td>\n",
       "      <td>0</td>\n",
       "      <td>1</td>\n",
       "      <td>1</td>\n",
       "    </tr>\n",
       "    <tr>\n",
       "      <th>2</th>\n",
       "      <td>1</td>\n",
       "      <td>0</td>\n",
       "      <td>0</td>\n",
       "      <td>0</td>\n",
       "    </tr>\n",
       "    <tr>\n",
       "      <th>3</th>\n",
       "      <td>1</td>\n",
       "      <td>1</td>\n",
       "      <td>0</td>\n",
       "      <td>0</td>\n",
       "    </tr>\n",
       "    <tr>\n",
       "      <th>4</th>\n",
       "      <td>0</td>\n",
       "      <td>1</td>\n",
       "      <td>0</td>\n",
       "      <td>0</td>\n",
       "    </tr>\n",
       "    <tr>\n",
       "      <th>5</th>\n",
       "      <td>0</td>\n",
       "      <td>1</td>\n",
       "      <td>0</td>\n",
       "      <td>1</td>\n",
       "    </tr>\n",
       "    <tr>\n",
       "      <th>6</th>\n",
       "      <td>1</td>\n",
       "      <td>1</td>\n",
       "      <td>1</td>\n",
       "      <td>1</td>\n",
       "    </tr>\n",
       "    <tr>\n",
       "      <th>7</th>\n",
       "      <td>1</td>\n",
       "      <td>0</td>\n",
       "      <td>1</td>\n",
       "      <td>0</td>\n",
       "    </tr>\n",
       "  </tbody>\n",
       "</table>\n",
       "</div>"
      ],
      "text/plain": [
       "   Zootopia  Moonlight  Deadpool  Rogue One\n",
       "0         1          1         0          1\n",
       "1         0          0         1          1\n",
       "2         1          0         0          0\n",
       "3         1          1         0          0\n",
       "4         0          1         0          0\n",
       "5         0          1         0          1\n",
       "6         1          1         1          1\n",
       "7         1          0         1          0"
      ]
     },
     "execution_count": 3,
     "metadata": {},
     "output_type": "execute_result"
    }
   ],
   "source": [
    "data = pd.read_excel('movie_likes.xlsx')\n",
    "data"
   ]
  },
  {
   "cell_type": "code",
   "execution_count": 4,
   "metadata": {
    "collapsed": false
   },
   "outputs": [],
   "source": [
    "X = data.drop('Rogue One', axis=1)\n",
    "y = data['Rogue One']"
   ]
  },
  {
   "cell_type": "code",
   "execution_count": 5,
   "metadata": {
    "collapsed": true
   },
   "outputs": [],
   "source": [
    "model = DecisionTreeClassifier()"
   ]
  },
  {
   "cell_type": "code",
   "execution_count": 6,
   "metadata": {
    "collapsed": false
   },
   "outputs": [
    {
     "data": {
      "text/plain": [
       "DecisionTreeClassifier(class_weight=None, criterion='gini', max_depth=None,\n",
       "            max_features=None, max_leaf_nodes=None,\n",
       "            min_impurity_split=1e-07, min_samples_leaf=1,\n",
       "            min_samples_split=2, min_weight_fraction_leaf=0.0,\n",
       "            presort=False, random_state=None, splitter='best')"
      ]
     },
     "execution_count": 6,
     "metadata": {},
     "output_type": "execute_result"
    }
   ],
   "source": [
    "model.fit(X,y)"
   ]
  },
  {
   "cell_type": "code",
   "execution_count": 7,
   "metadata": {
    "collapsed": false
   },
   "outputs": [
    {
     "name": "stdout",
     "output_type": "stream",
     "text": [
      "0.75\n"
     ]
    }
   ],
   "source": [
    "accuracy = float((model.predict(X) == y).sum()) / y.shape[0]\n",
    "print accuracy"
   ]
  },
  {
   "cell_type": "code",
   "execution_count": 8,
   "metadata": {
    "collapsed": false
   },
   "outputs": [
    {
     "data": {
      "text/html": [
       "<div>\n",
       "<style>\n",
       "    .dataframe thead tr:only-child th {\n",
       "        text-align: right;\n",
       "    }\n",
       "\n",
       "    .dataframe thead th {\n",
       "        text-align: left;\n",
       "    }\n",
       "\n",
       "    .dataframe tbody tr th {\n",
       "        vertical-align: top;\n",
       "    }\n",
       "</style>\n",
       "<table border=\"1\" class=\"dataframe\">\n",
       "  <thead>\n",
       "    <tr style=\"text-align: right;\">\n",
       "      <th></th>\n",
       "      <th>Zootopia</th>\n",
       "      <th>Moonlight</th>\n",
       "      <th>Deadpool</th>\n",
       "      <th>Rogue One</th>\n",
       "      <th>Rogue One Prediction</th>\n",
       "    </tr>\n",
       "  </thead>\n",
       "  <tbody>\n",
       "    <tr>\n",
       "      <th>0</th>\n",
       "      <td>1</td>\n",
       "      <td>1</td>\n",
       "      <td>0</td>\n",
       "      <td>1</td>\n",
       "      <td>0</td>\n",
       "    </tr>\n",
       "    <tr>\n",
       "      <th>1</th>\n",
       "      <td>0</td>\n",
       "      <td>0</td>\n",
       "      <td>1</td>\n",
       "      <td>1</td>\n",
       "      <td>1</td>\n",
       "    </tr>\n",
       "    <tr>\n",
       "      <th>2</th>\n",
       "      <td>1</td>\n",
       "      <td>0</td>\n",
       "      <td>0</td>\n",
       "      <td>0</td>\n",
       "      <td>0</td>\n",
       "    </tr>\n",
       "    <tr>\n",
       "      <th>3</th>\n",
       "      <td>1</td>\n",
       "      <td>1</td>\n",
       "      <td>0</td>\n",
       "      <td>0</td>\n",
       "      <td>0</td>\n",
       "    </tr>\n",
       "    <tr>\n",
       "      <th>4</th>\n",
       "      <td>0</td>\n",
       "      <td>1</td>\n",
       "      <td>0</td>\n",
       "      <td>0</td>\n",
       "      <td>0</td>\n",
       "    </tr>\n",
       "    <tr>\n",
       "      <th>5</th>\n",
       "      <td>0</td>\n",
       "      <td>1</td>\n",
       "      <td>0</td>\n",
       "      <td>1</td>\n",
       "      <td>0</td>\n",
       "    </tr>\n",
       "    <tr>\n",
       "      <th>6</th>\n",
       "      <td>1</td>\n",
       "      <td>1</td>\n",
       "      <td>1</td>\n",
       "      <td>1</td>\n",
       "      <td>1</td>\n",
       "    </tr>\n",
       "    <tr>\n",
       "      <th>7</th>\n",
       "      <td>1</td>\n",
       "      <td>0</td>\n",
       "      <td>1</td>\n",
       "      <td>0</td>\n",
       "      <td>0</td>\n",
       "    </tr>\n",
       "  </tbody>\n",
       "</table>\n",
       "</div>"
      ],
      "text/plain": [
       "   Zootopia  Moonlight  Deadpool  Rogue One  Rogue One Prediction\n",
       "0         1          1         0          1                     0\n",
       "1         0          0         1          1                     1\n",
       "2         1          0         0          0                     0\n",
       "3         1          1         0          0                     0\n",
       "4         0          1         0          0                     0\n",
       "5         0          1         0          1                     0\n",
       "6         1          1         1          1                     1\n",
       "7         1          0         1          0                     0"
      ]
     },
     "execution_count": 8,
     "metadata": {},
     "output_type": "execute_result"
    }
   ],
   "source": [
    "data.assign(**{'Rogue One Prediction': model.predict(X)})"
   ]
  },
  {
   "cell_type": "code",
   "execution_count": 9,
   "metadata": {
    "collapsed": false
   },
   "outputs": [
    {
     "data": {
      "text/plain": [
       "<matplotlib.text.Text at 0x11429d810>"
      ]
     },
     "execution_count": 9,
     "metadata": {},
     "output_type": "execute_result"
    },
    {
     "data": {
      "image/png": "[encoded data removed]",
      "text/plain": [
       "<matplotlib.figure.Figure at 0x110f71850>"
      ]
     },
     "metadata": {},
     "output_type": "display_data"
    }
   ],
   "source": [
    "auc = roc_auc_score(y, model.predict_proba(X)[:,1])\n",
    "fpr, tpr, _ = roc_curve(y, model.predict_proba(X)[:,1])\n",
    "plot([0] + list(fpr), [0] + list(tpr), color='r')\n",
    "plot([0,1], [0,1], linestyle='--', color='k')\n",
    "text(0.25, 0.1, 'Area Under Curve = {}'.format(auc), fontsize='xx-large')\n",
    "xlabel('False Positive Rate', fontsize='xx-large')\n",
    "ylabel('True Positive Rate', fontsize='xx-large')"
   ]
  },
  {
   "cell_type": "code",
   "execution_count": 10,
   "metadata": {
    "collapsed": false
   },
   "outputs": [
    {
     "data": {
      "image/svg+xml": [
       "<?xml version=\"1.0\" encoding=\"UTF-8\" standalone=\"no\"?>\n",
       "<!DOCTYPE svg PUBLIC \"-//W3C//DTD SVG 1.1//EN\"\n",
       " \"http://www.w3.org/Graphics/SVG/1.1/DTD/svg11.dtd\">\n",
       "<!-- Generated by graphviz version 2.38.0 (20140413.2041)\n",
       " -->\n",
       "<!-- Title: Tree Pages: 1 -->\n",
       "<svg width=\"881pt\" height=\"414pt\"\n",
       " viewBox=\"0.00 0.00 881.03 414.00\" xmlns=\"http://www.w3.org/2000/svg\" xmlns:xlink=\"http://www.w3.org/1999/xlink\">\n",
       "<g id=\"graph0\" class=\"graph\" transform=\"scale(1 1) rotate(0) translate(4 410)\">\n",
       "<title>Tree</title>\n",
       "<polygon fill=\"white\" stroke=\"none\" points=\"-4,4 -4,-410 877.03,-410 877.03,4 -4,4\"/>\n",
       "<!-- 0 -->\n",
       "<g id=\"node1\" class=\"node\"><title>0</title>\n",
       "<path fill=\"none\" stroke=\"black\" d=\"M468.591,-406C468.591,-406 305.439,-406 305.439,-406 299.439,-406 293.439,-400 293.439,-394 293.439,-394 293.439,-340 293.439,-340 293.439,-334 299.439,-328 305.439,-328 305.439,-328 468.591,-328 468.591,-328 474.591,-328 480.591,-334 480.591,-340 480.591,-340 480.591,-394 480.591,-394 480.591,-400 474.591,-406 468.591,-406\"/>\n",
       "<text text-anchor=\"middle\" x=\"387.015\" y=\"-390.8\" font-family=\"Helvetica,sans-Serif\" font-size=\"14.00\">Zootopia &lt;= 0.5</text>\n",
       "<text text-anchor=\"middle\" x=\"387.015\" y=\"-376.8\" font-family=\"Helvetica,sans-Serif\" font-size=\"14.00\">gini = 0.5</text>\n",
       "<text text-anchor=\"middle\" x=\"387.015\" y=\"-362.8\" font-family=\"Helvetica,sans-Serif\" font-size=\"14.00\">samples = 8</text>\n",
       "<text text-anchor=\"middle\" x=\"387.015\" y=\"-348.8\" font-family=\"Helvetica,sans-Serif\" font-size=\"14.00\">value = [4, 4]</text>\n",
       "<text text-anchor=\"middle\" x=\"387.015\" y=\"-334.8\" font-family=\"Helvetica,sans-Serif\" font-size=\"14.00\">class = Dislikes Rogue One</text>\n",
       "</g>\n",
       "<!-- 1 -->\n",
       "<g id=\"node2\" class=\"node\"><title>1</title>\n",
       "<path fill=\"#399de5\" fill-opacity=\"0.498039\" stroke=\"black\" d=\"M358.045,-292C358.045,-292 209.985,-292 209.985,-292 203.985,-292 197.985,-286 197.985,-280 197.985,-280 197.985,-226 197.985,-226 197.985,-220 203.985,-214 209.985,-214 209.985,-214 358.045,-214 358.045,-214 364.045,-214 370.045,-220 370.045,-226 370.045,-226 370.045,-280 370.045,-280 370.045,-286 364.045,-292 358.045,-292\"/>\n",
       "<text text-anchor=\"middle\" x=\"284.015\" y=\"-276.8\" font-family=\"Helvetica,sans-Serif\" font-size=\"14.00\">Moonlight &lt;= 0.5</text>\n",
       "<text text-anchor=\"middle\" x=\"284.015\" y=\"-262.8\" font-family=\"Helvetica,sans-Serif\" font-size=\"14.00\">gini = 0.4444</text>\n",
       "<text text-anchor=\"middle\" x=\"284.015\" y=\"-248.8\" font-family=\"Helvetica,sans-Serif\" font-size=\"14.00\">samples = 3</text>\n",
       "<text text-anchor=\"middle\" x=\"284.015\" y=\"-234.8\" font-family=\"Helvetica,sans-Serif\" font-size=\"14.00\">value = [1, 2]</text>\n",
       "<text text-anchor=\"middle\" x=\"284.015\" y=\"-220.8\" font-family=\"Helvetica,sans-Serif\" font-size=\"14.00\">class = Likes Rogue One</text>\n",
       "</g>\n",
       "<!-- 0&#45;&gt;1 -->\n",
       "<g id=\"edge1\" class=\"edge\"><title>0&#45;&gt;1</title>\n",
       "<path fill=\"none\" stroke=\"black\" d=\"M351.856,-327.769C343.487,-318.669 334.476,-308.87 325.84,-299.48\"/>\n",
       "<polygon fill=\"black\" stroke=\"black\" points=\"328.361,-297.05 319.015,-292.058 323.208,-301.788 328.361,-297.05\"/>\n",
       "<text text-anchor=\"middle\" x=\"317.97\" y=\"-312.837\" font-family=\"Helvetica,sans-Serif\" font-size=\"14.00\">True</text>\n",
       "</g>\n",
       "<!-- 4 -->\n",
       "<g id=\"node5\" class=\"node\"><title>4</title>\n",
       "<path fill=\"#e58139\" fill-opacity=\"0.333333\" stroke=\"black\" d=\"M571.591,-292C571.591,-292 408.439,-292 408.439,-292 402.439,-292 396.439,-286 396.439,-280 396.439,-280 396.439,-226 396.439,-226 396.439,-220 402.439,-214 408.439,-214 408.439,-214 571.591,-214 571.591,-214 577.591,-214 583.591,-220 583.591,-226 583.591,-226 583.591,-280 583.591,-280 583.591,-286 577.591,-292 571.591,-292\"/>\n",
       "<text text-anchor=\"middle\" x=\"490.015\" y=\"-276.8\" font-family=\"Helvetica,sans-Serif\" font-size=\"14.00\">Moonlight &lt;= 0.5</text>\n",
       "<text text-anchor=\"middle\" x=\"490.015\" y=\"-262.8\" font-family=\"Helvetica,sans-Serif\" font-size=\"14.00\">gini = 0.48</text>\n",
       "<text text-anchor=\"middle\" x=\"490.015\" y=\"-248.8\" font-family=\"Helvetica,sans-Serif\" font-size=\"14.00\">samples = 5</text>\n",
       "<text text-anchor=\"middle\" x=\"490.015\" y=\"-234.8\" font-family=\"Helvetica,sans-Serif\" font-size=\"14.00\">value = [3, 2]</text>\n",
       "<text text-anchor=\"middle\" x=\"490.015\" y=\"-220.8\" font-family=\"Helvetica,sans-Serif\" font-size=\"14.00\">class = Dislikes Rogue One</text>\n",
       "</g>\n",
       "<!-- 0&#45;&gt;4 -->\n",
       "<g id=\"edge4\" class=\"edge\"><title>0&#45;&gt;4</title>\n",
       "<path fill=\"none\" stroke=\"black\" d=\"M422.174,-327.769C430.543,-318.669 439.555,-308.87 448.19,-299.48\"/>\n",
       "<polygon fill=\"black\" stroke=\"black\" points=\"450.822,-301.788 455.015,-292.058 445.67,-297.05 450.822,-301.788\"/>\n",
       "<text text-anchor=\"middle\" x=\"456.061\" y=\"-312.837\" font-family=\"Helvetica,sans-Serif\" font-size=\"14.00\">False</text>\n",
       "</g>\n",
       "<!-- 2 -->\n",
       "<g id=\"node3\" class=\"node\"><title>2</title>\n",
       "<path fill=\"#399de5\" stroke=\"black\" d=\"M160.045,-171C160.045,-171 11.9849,-171 11.9849,-171 5.98486,-171 -0.0151394,-165 -0.0151394,-159 -0.0151394,-159 -0.0151394,-119 -0.0151394,-119 -0.0151394,-113 5.98486,-107 11.9849,-107 11.9849,-107 160.045,-107 160.045,-107 166.045,-107 172.045,-113 172.045,-119 172.045,-119 172.045,-159 172.045,-159 172.045,-165 166.045,-171 160.045,-171\"/>\n",
       "<text text-anchor=\"middle\" x=\"86.0151\" y=\"-155.8\" font-family=\"Helvetica,sans-Serif\" font-size=\"14.00\">gini = 0.0</text>\n",
       "<text text-anchor=\"middle\" x=\"86.0151\" y=\"-141.8\" font-family=\"Helvetica,sans-Serif\" font-size=\"14.00\">samples = 1</text>\n",
       "<text text-anchor=\"middle\" x=\"86.0151\" y=\"-127.8\" font-family=\"Helvetica,sans-Serif\" font-size=\"14.00\">value = [0, 1]</text>\n",
       "<text text-anchor=\"middle\" x=\"86.0151\" y=\"-113.8\" font-family=\"Helvetica,sans-Serif\" font-size=\"14.00\">class = Likes Rogue One</text>\n",
       "</g>\n",
       "<!-- 1&#45;&gt;2 -->\n",
       "<g id=\"edge2\" class=\"edge\"><title>1&#45;&gt;2</title>\n",
       "<path fill=\"none\" stroke=\"black\" d=\"M216.705,-213.926C195.124,-201.718 171.297,-188.24 149.963,-176.172\"/>\n",
       "<polygon fill=\"black\" stroke=\"black\" points=\"151.414,-172.972 140.986,-171.095 147.967,-179.065 151.414,-172.972\"/>\n",
       "</g>\n",
       "<!-- 3 -->\n",
       "<g id=\"node4\" class=\"node\"><title>3</title>\n",
       "<path fill=\"none\" stroke=\"black\" d=\"M365.591,-171C365.591,-171 202.439,-171 202.439,-171 196.439,-171 190.439,-165 190.439,-159 190.439,-159 190.439,-119 190.439,-119 190.439,-113 196.439,-107 202.439,-107 202.439,-107 365.591,-107 365.591,-107 371.591,-107 377.591,-113 377.591,-119 377.591,-119 377.591,-159 377.591,-159 377.591,-165 371.591,-171 365.591,-171\"/>\n",
       "<text text-anchor=\"middle\" x=\"284.015\" y=\"-155.8\" font-family=\"Helvetica,sans-Serif\" font-size=\"14.00\">gini = 0.5</text>\n",
       "<text text-anchor=\"middle\" x=\"284.015\" y=\"-141.8\" font-family=\"Helvetica,sans-Serif\" font-size=\"14.00\">samples = 2</text>\n",
       "<text text-anchor=\"middle\" x=\"284.015\" y=\"-127.8\" font-family=\"Helvetica,sans-Serif\" font-size=\"14.00\">value = [1, 1]</text>\n",
       "<text text-anchor=\"middle\" x=\"284.015\" y=\"-113.8\" font-family=\"Helvetica,sans-Serif\" font-size=\"14.00\">class = Dislikes Rogue One</text>\n",
       "</g>\n",
       "<!-- 1&#45;&gt;3 -->\n",
       "<g id=\"edge3\" class=\"edge\"><title>1&#45;&gt;3</title>\n",
       "<path fill=\"none\" stroke=\"black\" d=\"M284.015,-213.769C284.015,-203.313 284.015,-191.935 284.015,-181.315\"/>\n",
       "<polygon fill=\"black\" stroke=\"black\" points=\"287.515,-181.01 284.015,-171.01 280.515,-181.01 287.515,-181.01\"/>\n",
       "</g>\n",
       "<!-- 5 -->\n",
       "<g id=\"node6\" class=\"node\"><title>5</title>\n",
       "<path fill=\"#e58139\" stroke=\"black\" d=\"M571.591,-171C571.591,-171 408.439,-171 408.439,-171 402.439,-171 396.439,-165 396.439,-159 396.439,-159 396.439,-119 396.439,-119 396.439,-113 402.439,-107 408.439,-107 408.439,-107 571.591,-107 571.591,-107 577.591,-107 583.591,-113 583.591,-119 583.591,-119 583.591,-159 583.591,-159 583.591,-165 577.591,-171 571.591,-171\"/>\n",
       "<text text-anchor=\"middle\" x=\"490.015\" y=\"-155.8\" font-family=\"Helvetica,sans-Serif\" font-size=\"14.00\">gini = 0.0</text>\n",
       "<text text-anchor=\"middle\" x=\"490.015\" y=\"-141.8\" font-family=\"Helvetica,sans-Serif\" font-size=\"14.00\">samples = 2</text>\n",
       "<text text-anchor=\"middle\" x=\"490.015\" y=\"-127.8\" font-family=\"Helvetica,sans-Serif\" font-size=\"14.00\">value = [2, 0]</text>\n",
       "<text text-anchor=\"middle\" x=\"490.015\" y=\"-113.8\" font-family=\"Helvetica,sans-Serif\" font-size=\"14.00\">class = Dislikes Rogue One</text>\n",
       "</g>\n",
       "<!-- 4&#45;&gt;5 -->\n",
       "<g id=\"edge5\" class=\"edge\"><title>4&#45;&gt;5</title>\n",
       "<path fill=\"none\" stroke=\"black\" d=\"M490.015,-213.769C490.015,-203.313 490.015,-191.935 490.015,-181.315\"/>\n",
       "<polygon fill=\"black\" stroke=\"black\" points=\"493.515,-181.01 490.015,-171.01 486.515,-181.01 493.515,-181.01\"/>\n",
       "</g>\n",
       "<!-- 6 -->\n",
       "<g id=\"node7\" class=\"node\"><title>6</title>\n",
       "<path fill=\"#399de5\" fill-opacity=\"0.498039\" stroke=\"black\" d=\"M762.045,-178C762.045,-178 613.985,-178 613.985,-178 607.985,-178 601.985,-172 601.985,-166 601.985,-166 601.985,-112 601.985,-112 601.985,-106 607.985,-100 613.985,-100 613.985,-100 762.045,-100 762.045,-100 768.045,-100 774.045,-106 774.045,-112 774.045,-112 774.045,-166 774.045,-166 774.045,-172 768.045,-178 762.045,-178\"/>\n",
       "<text text-anchor=\"middle\" x=\"688.015\" y=\"-162.8\" font-family=\"Helvetica,sans-Serif\" font-size=\"14.00\">Deadpool &lt;= 0.5</text>\n",
       "<text text-anchor=\"middle\" x=\"688.015\" y=\"-148.8\" font-family=\"Helvetica,sans-Serif\" font-size=\"14.00\">gini = 0.4444</text>\n",
       "<text text-anchor=\"middle\" x=\"688.015\" y=\"-134.8\" font-family=\"Helvetica,sans-Serif\" font-size=\"14.00\">samples = 3</text>\n",
       "<text text-anchor=\"middle\" x=\"688.015\" y=\"-120.8\" font-family=\"Helvetica,sans-Serif\" font-size=\"14.00\">value = [1, 2]</text>\n",
       "<text text-anchor=\"middle\" x=\"688.015\" y=\"-106.8\" font-family=\"Helvetica,sans-Serif\" font-size=\"14.00\">class = Likes Rogue One</text>\n",
       "</g>\n",
       "<!-- 4&#45;&gt;6 -->\n",
       "<g id=\"edge6\" class=\"edge\"><title>4&#45;&gt;6</title>\n",
       "<path fill=\"none\" stroke=\"black\" d=\"M557.325,-213.926C574.86,-204.007 593.877,-193.25 611.835,-183.092\"/>\n",
       "<polygon fill=\"black\" stroke=\"black\" points=\"613.574,-186.129 620.555,-178.159 610.128,-180.036 613.574,-186.129\"/>\n",
       "</g>\n",
       "<!-- 7 -->\n",
       "<g id=\"node8\" class=\"node\"><title>7</title>\n",
       "<path fill=\"none\" stroke=\"black\" d=\"M670.591,-64C670.591,-64 507.439,-64 507.439,-64 501.439,-64 495.439,-58 495.439,-52 495.439,-52 495.439,-12 495.439,-12 495.439,-6 501.439,-0 507.439,-0 507.439,-0 670.591,-0 670.591,-0 676.591,-0 682.591,-6 682.591,-12 682.591,-12 682.591,-52 682.591,-52 682.591,-58 676.591,-64 670.591,-64\"/>\n",
       "<text text-anchor=\"middle\" x=\"589.015\" y=\"-48.8\" font-family=\"Helvetica,sans-Serif\" font-size=\"14.00\">gini = 0.5</text>\n",
       "<text text-anchor=\"middle\" x=\"589.015\" y=\"-34.8\" font-family=\"Helvetica,sans-Serif\" font-size=\"14.00\">samples = 2</text>\n",
       "<text text-anchor=\"middle\" x=\"589.015\" y=\"-20.8\" font-family=\"Helvetica,sans-Serif\" font-size=\"14.00\">value = [1, 1]</text>\n",
       "<text text-anchor=\"middle\" x=\"589.015\" y=\"-6.8\" font-family=\"Helvetica,sans-Serif\" font-size=\"14.00\">class = Dislikes Rogue One</text>\n",
       "</g>\n",
       "<!-- 6&#45;&gt;7 -->\n",
       "<g id=\"edge7\" class=\"edge\"><title>6&#45;&gt;7</title>\n",
       "<path fill=\"none\" stroke=\"black\" d=\"M651.994,-99.7956C643.355,-90.6335 634.124,-80.8428 625.466,-71.6603\"/>\n",
       "<polygon fill=\"black\" stroke=\"black\" points=\"627.761,-68.992 618.354,-64.1172 622.668,-73.7941 627.761,-68.992\"/>\n",
       "</g>\n",
       "<!-- 8 -->\n",
       "<g id=\"node9\" class=\"node\"><title>8</title>\n",
       "<path fill=\"#399de5\" stroke=\"black\" d=\"M861.045,-64C861.045,-64 712.985,-64 712.985,-64 706.985,-64 700.985,-58 700.985,-52 700.985,-52 700.985,-12 700.985,-12 700.985,-6 706.985,-0 712.985,-0 712.985,-0 861.045,-0 861.045,-0 867.045,-0 873.045,-6 873.045,-12 873.045,-12 873.045,-52 873.045,-52 873.045,-58 867.045,-64 861.045,-64\"/>\n",
       "<text text-anchor=\"middle\" x=\"787.015\" y=\"-48.8\" font-family=\"Helvetica,sans-Serif\" font-size=\"14.00\">gini = 0.0</text>\n",
       "<text text-anchor=\"middle\" x=\"787.015\" y=\"-34.8\" font-family=\"Helvetica,sans-Serif\" font-size=\"14.00\">samples = 1</text>\n",
       "<text text-anchor=\"middle\" x=\"787.015\" y=\"-20.8\" font-family=\"Helvetica,sans-Serif\" font-size=\"14.00\">value = [0, 1]</text>\n",
       "<text text-anchor=\"middle\" x=\"787.015\" y=\"-6.8\" font-family=\"Helvetica,sans-Serif\" font-size=\"14.00\">class = Likes Rogue One</text>\n",
       "</g>\n",
       "<!-- 6&#45;&gt;8 -->\n",
       "<g id=\"edge8\" class=\"edge\"><title>6&#45;&gt;8</title>\n",
       "<path fill=\"none\" stroke=\"black\" d=\"M724.036,-99.7956C732.675,-90.6335 741.906,-80.8428 750.564,-71.6603\"/>\n",
       "<polygon fill=\"black\" stroke=\"black\" points=\"753.363,-73.7941 757.676,-64.1172 748.269,-68.992 753.363,-73.7941\"/>\n",
       "</g>\n",
       "</g>\n",
       "</svg>\n"
      ],
      "text/plain": [
       "<graphviz.files.Source at 0x110f4bfd0>"
      ]
     },
     "execution_count": 10,
     "metadata": {},
     "output_type": "execute_result"
    }
   ],
   "source": [
    "dot_data = export_graphviz(model, out_file=None,\n",
    "                           feature_names=data.columns[:-1],\n",
    "                           class_names=['Dislikes {}'.format(data.columns[-1]),\n",
    "                                        'Likes {}'.format(data.columns[-1])],\n",
    "                           filled=True, rounded=True)\n",
    "graphviz.Source(dot_data)"
   ]
  },
  {
   "cell_type": "code",
   "execution_count": null,
   "metadata": {
    "collapsed": true
   },
   "outputs": [],
   "source": []
  }
 ],
 "metadata": {
  "kernelspec": {
   "display_name": "Python 2",
   "language": "python",
   "name": "python2"
  },
  "language_info": {
   "codemirror_mode": {
    "name": "ipython",
    "version": 2
   },
   "file_extension": ".py",
   "mimetype": "text/x-python",
   "name": "python",
   "nbconvert_exporter": "python",
   "pygments_lexer": "ipython2",
   "version": "2.7.13"
  }
 },
 "nbformat": 4,
 "nbformat_minor": 0
}
